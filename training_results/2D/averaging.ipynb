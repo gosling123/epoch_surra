{
 "cells": [
  {
   "cell_type": "code",
   "execution_count": null,
   "metadata": {},
   "outputs": [],
   "source": [
    "import json\n",
    "import numpy as np"
   ]
  },
  {
   "cell_type": "code",
   "execution_count": null,
   "metadata": {},
   "outputs": [],
   "source": [
    "input_files = [f'samples/train_inputs_2D_s{i+1}.json' for i in range(3)]\n",
    "output_files = [f'samples/train_outputs_2D_s{i+1}.json' for i in range(3)]\n"
   ]
  },
  {
   "cell_type": "code",
   "execution_count": null,
   "metadata": {},
   "outputs": [],
   "source": [
    "with open(input_files[0], 'r') as f:\n",
    "    input1 = json.load(f)\n",
    "\n",
    "with open(input_files[1], 'r') as f:\n",
    "    input2 = json.load(f)\n",
    "\n",
    "with open(input_files[2], 'r') as f:\n",
    "    input3 = json.load(f)\n"
   ]
  },
  {
   "cell_type": "code",
   "execution_count": null,
   "metadata": {},
   "outputs": [],
   "source": [
    "with open(output_files[0], 'r') as f:\n",
    "    output1 = json.load(f)\n",
    "\n",
    "with open(output_files[1], 'r') as f:\n",
    "    output2 = json.load(f)\n",
    "\n",
    "with open(output_files[2], 'r') as f:\n",
    "    output3 = json.load(f)\n"
   ]
  },
  {
   "cell_type": "code",
   "execution_count": null,
   "metadata": {},
   "outputs": [],
   "source": [
    "# all_inputs = input1 + input2 + input3\n",
    "# all_outputs = output1 + output2 + output3\n",
    "\n",
    "# with open('all_outputs_set2.json', 'w') as f:\n",
    "#         json.dump(all_outputs, f, indent=1)\n",
    "# with open('all_inputs_set2.json', 'w') as f:\n",
    "#         json.dump(all_inputs, f, indent=1)"
   ]
  },
  {
   "cell_type": "code",
   "execution_count": null,
   "metadata": {},
   "outputs": [],
   "source": [
    "input1 = np.array(input1)\n",
    "input2 = np.array(input2)\n",
    "input3 = np.array(input3)\n"
   ]
  },
  {
   "cell_type": "code",
   "execution_count": null,
   "metadata": {},
   "outputs": [],
   "source": [
    "output1 = np.array(output1)\n",
    "output2 = np.array(output2)\n",
    "output3 = np.array(output3)"
   ]
  },
  {
   "cell_type": "code",
   "execution_count": null,
   "metadata": {},
   "outputs": [],
   "source": [
    "output1[:,0] = np.log(output1[:,0])\n",
    "output1[:,2] = np.log(output1[:,2])\n",
    "\n",
    "output2[:,0] = np.log(output2[:,0])\n",
    "output2[:,2] = np.log(output2[:,2])\n",
    "\n",
    "output3[:,0] = np.log(output3[:,0])\n",
    "output3[:,2] = np.log(output3[:,2])\n"
   ]
  },
  {
   "cell_type": "code",
   "execution_count": null,
   "metadata": {},
   "outputs": [],
   "source": [
    "mean = (output1 + output2 + output3)/3"
   ]
  },
  {
   "cell_type": "code",
   "execution_count": null,
   "metadata": {},
   "outputs": [],
   "source": [
    "var1 = (output1-mean)**2\n",
    "var2 = (output2-mean)**2\n",
    "var3 = (output3-mean)**2\n",
    "\n",
    "var = (var1 + var2 + var3)/3"
   ]
  },
  {
   "cell_type": "code",
   "execution_count": null,
   "metadata": {},
   "outputs": [],
   "source": [
    "mean = mean.tolist()\n",
    "var = var.tolist()"
   ]
  },
  {
   "cell_type": "code",
   "execution_count": null,
   "metadata": {},
   "outputs": [],
   "source": []
  }
 ],
 "metadata": {
  "interpreter": {
   "hash": "e7370f93d1d0cde622a1f8e1c04877d8463912d04d973331ad4851f04de6915a"
  },
  "kernelspec": {
   "display_name": "Python 3.8.10 64-bit",
   "language": "python",
   "name": "python3"
  },
  "language_info": {
   "codemirror_mode": {
    "name": "ipython",
    "version": 3
   },
   "file_extension": ".py",
   "mimetype": "text/x-python",
   "name": "python",
   "nbconvert_exporter": "python",
   "pygments_lexer": "ipython3",
   "version": "3.8.10"
  },
  "orig_nbformat": 4
 },
 "nbformat": 4,
 "nbformat_minor": 2
}
