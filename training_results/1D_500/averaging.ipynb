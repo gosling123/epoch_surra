{
 "cells": [
  {
   "cell_type": "code",
   "execution_count": 1,
   "metadata": {},
   "outputs": [],
   "source": [
    "import json\n",
    "import numpy as np"
   ]
  },
  {
   "cell_type": "code",
   "execution_count": 2,
   "metadata": {},
   "outputs": [],
   "source": [
    "input_files = [f'samples/train_inputs_s{i+1}.json' for i in range(6)]\n",
    "output_files = [f'samples/train_outputs_s{i+1}.json' for i in range(6)]\n",
    "    "
   ]
  },
  {
   "cell_type": "code",
   "execution_count": 3,
   "metadata": {},
   "outputs": [],
   "source": [
    "with open(input_files[0], 'r') as f:\n",
    "    input1 = json.load(f)\n",
    "\n",
    "with open(input_files[1], 'r') as f:\n",
    "    input2 = json.load(f)\n",
    "\n",
    "with open(input_files[2], 'r') as f:\n",
    "    input3 = json.load(f)\n",
    "\n",
    "with open(input_files[3], 'r') as f:\n",
    "    input4 = json.load(f)\n",
    "\n",
    "with open(input_files[4], 'r') as f:\n",
    "    input5 = json.load(f)\n"
   ]
  },
  {
   "cell_type": "code",
   "execution_count": 4,
   "metadata": {},
   "outputs": [],
   "source": [
    "with open(output_files[0], 'r') as f:\n",
    "    output1 = json.load(f)\n",
    "\n",
    "with open(output_files[1], 'r') as f:\n",
    "    output2 = json.load(f)\n",
    "\n",
    "with open(output_files[2], 'r') as f:\n",
    "    output3 = json.load(f)\n",
    "\n",
    "with open(output_files[3], 'r') as f:\n",
    "    output4 = json.load(f)\n",
    "\n",
    "with open(output_files[4], 'r') as f:\n",
    "    output5 = json.load(f)\n",
    "    "
   ]
  },
  {
   "cell_type": "code",
   "execution_count": 5,
   "metadata": {},
   "outputs": [],
   "source": [
    "input1 = np.array(input1)\n",
    "input2 = np.array(input2)\n",
    "input3 = np.array(input3)\n",
    "input4 = np.array(input4)\n",
    "input5 = np.array(input5)"
   ]
  },
  {
   "cell_type": "code",
   "execution_count": 6,
   "metadata": {},
   "outputs": [],
   "source": [
    "output1 = np.array(output1)\n",
    "output2 = np.array(output2)\n",
    "output3 = np.array(output3)\n",
    "output4 = np.array(output4)\n",
    "output5 = np.array(output5)"
   ]
  },
  {
   "cell_type": "code",
   "execution_count": 7,
   "metadata": {},
   "outputs": [],
   "source": [
    "output1[:,0] = np.log(output1[:,0])\n",
    "output1[:,2] = np.log(output1[:,2])\n",
    "\n",
    "output2[:,0] = np.log(output2[:,0])\n",
    "output2[:,2] = np.log(output2[:,2])\n",
    "\n",
    "output3[:,0] = np.log(output3[:,0])\n",
    "output3[:,2] = np.log(output3[:,2])\n",
    "\n",
    "output4[:,0] = np.log(output4[:,0])\n",
    "output4[:,2] = np.log(output4[:,2])\n",
    "\n",
    "output5[:,0] = np.log(output5[:,0])\n",
    "output5[:,2] = np.log(output5[:,2])"
   ]
  },
  {
   "cell_type": "code",
   "execution_count": 11,
   "metadata": {},
   "outputs": [],
   "source": [
    "all_output = output1 + output2 + output3 + output4 + output5\n",
    "all_output = all_output.tolist()\n",
    "with open('all_outputs_log.json', 'w') as f:\n",
    "        json.dump(all_output, f, indent=1)"
   ]
  },
  {
   "cell_type": "code",
   "execution_count": 12,
   "metadata": {},
   "outputs": [],
   "source": [
    "mean = (output1 + output2 + output3 + output4 + output5)/5"
   ]
  },
  {
   "cell_type": "code",
   "execution_count": 13,
   "metadata": {},
   "outputs": [],
   "source": [
    "var1 = (output1-mean)**2\n",
    "var2 = (output2-mean)**2\n",
    "var3 = (output3-mean)**2\n",
    "var4 = (output4-mean)**2\n",
    "var5 = (output5-mean)**2\n",
    "\n",
    "var = (var1 + var2 + var3 + var4 + var5)/5"
   ]
  },
  {
   "cell_type": "code",
   "execution_count": 14,
   "metadata": {},
   "outputs": [],
   "source": [
    "mean = mean.tolist()\n",
    "var = var.tolist()"
   ]
  },
  {
   "cell_type": "code",
   "execution_count": 15,
   "metadata": {},
   "outputs": [],
   "source": [
    "with open('train_outputs_log_var.json', 'w') as f:\n",
    "        json.dump(var, f, indent=1)\n",
    "with open('train_outputs_log_mean.json', 'w') as f:\n",
    "        json.dump(mean, f, indent=1)"
   ]
  },
  {
   "cell_type": "code",
   "execution_count": null,
   "metadata": {},
   "outputs": [],
   "source": []
  }
 ],
 "metadata": {
  "interpreter": {
   "hash": "e7370f93d1d0cde622a1f8e1c04877d8463912d04d973331ad4851f04de6915a"
  },
  "kernelspec": {
   "display_name": "Python 3.8.10 64-bit",
   "language": "python",
   "name": "python3"
  },
  "language_info": {
   "codemirror_mode": {
    "name": "ipython",
    "version": 3
   },
   "file_extension": ".py",
   "mimetype": "text/x-python",
   "name": "python",
   "nbconvert_exporter": "python",
   "pygments_lexer": "ipython3",
   "version": "3.8.10"
  },
  "orig_nbformat": 4
 },
 "nbformat": 4,
 "nbformat_minor": 2
}
