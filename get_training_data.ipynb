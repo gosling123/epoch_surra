{
 "cells": [
  {
   "cell_type": "code",
   "execution_count": 1,
   "metadata": {},
   "outputs": [],
   "source": [
    "from epoch_scripts.run_epoch import *\n"
   ]
  },
  {
   "cell_type": "code",
   "execution_count": 3,
   "metadata": {},
   "outputs": [
    {
     "name": "stdout",
     "output_type": "stream",
     "text": [
      "['Data_1D_set1_1/Data_1' 'Data_1D_set1_1/Data_2' 'Data_1D_set1_1/Data_3'\n",
      " 'Data_1D_set1_1/Data_4' 'Data_1D_set1_1/Data_5' 'Data_1D_set1_1/Data_6'\n",
      " 'Data_1D_set1_1/Data_7' 'Data_1D_set1_1/Data_8' 'Data_1D_set1_1/Data_9'\n",
      " 'Data_1D_set1_1/Data_10' 'Data_1D_set1_1/Data_11'\n",
      " 'Data_1D_set1_1/Data_12' 'Data_1D_set1_1/Data_13'\n",
      " 'Data_1D_set1_1/Data_14' 'Data_1D_set1_1/Data_15'\n",
      " 'Data_1D_set1_1/Data_16' 'Data_1D_set1_1/Data_17'\n",
      " 'Data_1D_set1_1/Data_18' 'Data_1D_set1_1/Data_19'\n",
      " 'Data_1D_set1_1/Data_20' 'Data_1D_set1_1/Data_21'\n",
      " 'Data_1D_set1_1/Data_22' 'Data_1D_set1_1/Data_23'\n",
      " 'Data_1D_set1_1/Data_24' 'Data_1D_set1_1/Data_25' 'Data_1D_set1_2/Data_1'\n",
      " 'Data_1D_set1_2/Data_2' 'Data_1D_set1_2/Data_3' 'Data_1D_set1_2/Data_4'\n",
      " 'Data_1D_set1_2/Data_5' 'Data_1D_set1_2/Data_6' 'Data_1D_set1_2/Data_7'\n",
      " 'Data_1D_set1_2/Data_8' 'Data_1D_set1_2/Data_9' 'Data_1D_set1_2/Data_10'\n",
      " 'Data_1D_set1_2/Data_11' 'Data_1D_set1_2/Data_12'\n",
      " 'Data_1D_set1_2/Data_13' 'Data_1D_set1_2/Data_14'\n",
      " 'Data_1D_set1_2/Data_15' 'Data_1D_set1_2/Data_16'\n",
      " 'Data_1D_set1_2/Data_17' 'Data_1D_set1_2/Data_18'\n",
      " 'Data_1D_set1_2/Data_19' 'Data_1D_set1_2/Data_20'\n",
      " 'Data_1D_set1_2/Data_21' 'Data_1D_set1_2/Data_22'\n",
      " 'Data_1D_set1_2/Data_23' 'Data_1D_set1_2/Data_24'\n",
      " 'Data_1D_set1_2/Data_25']\n"
     ]
    }
   ],
   "source": [
    "dirs = []\n",
    "for i in range(1, 3):\n",
    "    for j in range(1, 26):\n",
    "        dirs.append(f'Data_1D_set1_{i}/Data_{j}')\n",
    "\n",
    "dirs = np.array(dirs)\n",
    "print(dirs)"
   ]
  },
  {
   "cell_type": "code",
   "execution_count": 4,
   "metadata": {},
   "outputs": [
    {
     "name": "stdout",
     "output_type": "stream",
     "text": [
      "1\n",
      "Getting Metric Results for Data_1D_set1_1/Data_1 Directory\n",
      "results directory exists\n",
      "I = 0.12049502056209704 e15 w/cm^2\n",
      "Ln = 499.99913999973944 microns\n",
      "Got Backscatter Intesnisty In 10.419220209121704 seconds : I_srs = 0.0003643014337803314\n",
      "Got Temperature In 7.306357145309448 seconds : T = 4.930068426455992 keV\n",
      "Got E Fraction In 0.17196249961853027 seconds : E_frac = 1e-10\n",
      "2\n",
      "Getting Metric Results for Data_1D_set1_1/Data_2 Directory\n",
      "results directory exists\n",
      "I = 10.57371263440564 e15 w/cm^2\n",
      "Ln = 499.9994999992499 microns\n",
      "Got Backscatter Intesnisty In 10.909820795059204 seconds : I_srs = 0.32737695866603955\n",
      "Got Temperature In 5.7502968311309814 seconds : T = 19.06226001286536 keV\n",
      "Got E Fraction In 0.2021634578704834 seconds : E_frac = 0.1112799889169757\n",
      "3\n",
      "Getting Metric Results for Data_1D_set1_1/Data_3 Directory\n",
      "results directory exists\n",
      "I = 2.1013350382410785 e15 w/cm^2\n",
      "Ln = 500.00089999981026 microns\n",
      "Got Backscatter Intesnisty In 20.837902545928955 seconds : I_srs = 0.01097510761925955\n",
      "Got Temperature In 10.583056449890137 seconds : T = 11.244217424860604 keV\n",
      "Got E Fraction In 0.36787843704223633 seconds : E_frac = 0.002186403391345303\n",
      "4\n",
      "Getting Metric Results for Data_1D_set1_1/Data_4 Directory\n",
      "results directory exists\n",
      "I = 8.24648176684075 e15 w/cm^2\n",
      "Ln = 500.0006599994355 microns\n",
      "Got Backscatter Intesnisty In 21.757930517196655 seconds : I_srs = 0.3057902630770812\n",
      "Got Temperature In 14.34762692451477 seconds : T = 17.319863696322983 keV\n",
      "Got E Fraction In 0.2381584644317627 seconds : E_frac = 0.08369348958272065\n",
      "5\n",
      "Getting Metric Results for Data_1D_set1_1/Data_5 Directory\n",
      "results directory exists\n",
      "I = 5.0159257922464215 e15 w/cm^2\n",
      "Ln = 499.9991799996725 microns\n",
      "Got Backscatter Intesnisty In 10.216301441192627 seconds : I_srs = 0.21953171153488618\n",
      "Got Temperature In 5.04378604888916 seconds : T = 15.757108144981647 keV\n",
      "Got E Fraction In 0.26685404777526855 seconds : E_frac = 0.03404721649279686\n",
      "6\n",
      "Getting Metric Results for Data_1D_set1_1/Data_6 Directory\n",
      "results directory exists\n",
      "I = 46.987279890091656 e15 w/cm^2\n",
      "Ln = 499.99953999921166 microns\n",
      "Got Backscatter Intesnisty In 11.105408668518066 seconds : I_srs = 0.2560577452503448\n"
     ]
    },
    {
     "name": "stderr",
     "output_type": "stream",
     "text": [
      "/home/u1706745/epoch-4.17.16/epoch1d/epoch_surra/epoch_scripts/hot_elec_calc.py:121: RuntimeWarning: divide by zero encountered in true_divide\n",
      "  error_per = np.abs((flux_norm -  MB_eq_norm) / MB_eq_norm)*100\n",
      "/home/u1706745/epoch-4.17.16/epoch1d/epoch_surra/epoch_scripts/hot_elec_calc.py:121: RuntimeWarning: invalid value encountered in true_divide\n",
      "  error_per = np.abs((flux_norm -  MB_eq_norm) / MB_eq_norm)*100\n",
      "/home/u1706745/epoch-4.17.16/epoch1d/epoch_surra/epoch_scripts/hot_elec_calc.py:15: RuntimeWarning: invalid value encountered in true_divide\n",
      "  density = counts / (np.sum(counts)*np.diff(energy)[0])\n"
     ]
    },
    {
     "ename": "IndexError",
     "evalue": "index 0 is out of bounds for axis 0 with size 0",
     "output_type": "error",
     "traceback": [
      "\u001b[0;31m---------------------------------------------------------------------------\u001b[0m",
      "\u001b[0;31mIndexError\u001b[0m                                Traceback (most recent call last)",
      "\u001b[0;32m<ipython-input-4-1591d24feb06>\u001b[0m in \u001b[0;36m<module>\u001b[0;34m\u001b[0m\n\u001b[1;32m      2\u001b[0m \u001b[0;32mfor\u001b[0m \u001b[0md\u001b[0m \u001b[0;32min\u001b[0m \u001b[0mdirs\u001b[0m\u001b[0;34m:\u001b[0m\u001b[0;34m\u001b[0m\u001b[0;34m\u001b[0m\u001b[0m\n\u001b[1;32m      3\u001b[0m     \u001b[0mprint\u001b[0m\u001b[0;34m(\u001b[0m\u001b[0mcount\u001b[0m\u001b[0;34m)\u001b[0m\u001b[0;34m\u001b[0m\u001b[0;34m\u001b[0m\u001b[0m\n\u001b[0;32m----> 4\u001b[0;31m     \u001b[0mget_metrics_res\u001b[0m\u001b[0;34m(\u001b[0m\u001b[0md\u001b[0m\u001b[0;34m,\u001b[0m \u001b[0minput_fname\u001b[0m \u001b[0;34m=\u001b[0m \u001b[0;34m'train_inputs_1D_new_s1.json'\u001b[0m\u001b[0;34m,\u001b[0m \u001b[0moutput_fname\u001b[0m \u001b[0;34m=\u001b[0m \u001b[0;34m'train_outputs_1D_new_s1.json'\u001b[0m\u001b[0;34m,\u001b[0m \u001b[0mlog\u001b[0m\u001b[0;34m=\u001b[0m\u001b[0;32mFalse\u001b[0m\u001b[0;34m)\u001b[0m\u001b[0;34m\u001b[0m\u001b[0;34m\u001b[0m\u001b[0m\n\u001b[0m\u001b[1;32m      5\u001b[0m     \u001b[0mcount\u001b[0m\u001b[0;34m+=\u001b[0m\u001b[0;36m1\u001b[0m\u001b[0;34m\u001b[0m\u001b[0;34m\u001b[0m\u001b[0m\n",
      "\u001b[0;32m~/epoch-4.17.16/epoch1d/epoch_surra/epoch_scripts/run_epoch.py\u001b[0m in \u001b[0;36mget_metrics_res\u001b[0;34m(dir, input_fname, output_fname, log)\u001b[0m\n\u001b[1;32m     99\u001b[0m     \u001b[0mtime_P\u001b[0m \u001b[0;34m=\u001b[0m \u001b[0mtime\u001b[0m\u001b[0;34m.\u001b[0m\u001b[0mtime\u001b[0m\u001b[0;34m(\u001b[0m\u001b[0;34m)\u001b[0m\u001b[0;34m\u001b[0m\u001b[0;34m\u001b[0m\u001b[0m\n\u001b[1;32m    100\u001b[0m     \u001b[0mprint\u001b[0m\u001b[0;34m(\u001b[0m\u001b[0;34mf'Got Backscatter Intesnisty In {time_P-start} seconds : I_srs = {P}'\u001b[0m\u001b[0;34m)\u001b[0m\u001b[0;34m\u001b[0m\u001b[0;34m\u001b[0m\u001b[0m\n\u001b[0;32m--> 101\u001b[0;31m     \u001b[0mT\u001b[0m \u001b[0;34m=\u001b[0m \u001b[0mhot_e_data\u001b[0m\u001b[0;34m.\u001b[0m\u001b[0mget_hot_e_temp\u001b[0m\u001b[0;34m(\u001b[0m\u001b[0mn\u001b[0m \u001b[0;34m=\u001b[0m \u001b[0;36m6\u001b[0m\u001b[0;34m,\u001b[0m \u001b[0mav\u001b[0m \u001b[0;34m=\u001b[0m \u001b[0;32mTrue\u001b[0m\u001b[0;34m)\u001b[0m\u001b[0;34m\u001b[0m\u001b[0;34m\u001b[0m\u001b[0m\n\u001b[0m\u001b[1;32m    102\u001b[0m     \u001b[0mtime_T\u001b[0m \u001b[0;34m=\u001b[0m \u001b[0mtime\u001b[0m\u001b[0;34m.\u001b[0m\u001b[0mtime\u001b[0m\u001b[0;34m(\u001b[0m\u001b[0;34m)\u001b[0m\u001b[0;34m\u001b[0m\u001b[0;34m\u001b[0m\u001b[0m\n\u001b[1;32m    103\u001b[0m     \u001b[0mprint\u001b[0m\u001b[0;34m(\u001b[0m\u001b[0;34mf'Got Temperature In {time_T-time_P} seconds : T = {T} keV'\u001b[0m\u001b[0;34m)\u001b[0m\u001b[0;34m\u001b[0m\u001b[0;34m\u001b[0m\u001b[0m\n",
      "\u001b[0;32m~/epoch-4.17.16/epoch1d/epoch_surra/epoch_scripts/hot_elec_calc.py\u001b[0m in \u001b[0;36mget_hot_e_temp\u001b[0;34m(self, n, av, ax, plot)\u001b[0m\n\u001b[1;32m    290\u001b[0m             \u001b[0mT_data\u001b[0m \u001b[0;34m=\u001b[0m \u001b[0;34m[\u001b[0m\u001b[0;34m]\u001b[0m\u001b[0;34m\u001b[0m\u001b[0;34m\u001b[0m\u001b[0m\n\u001b[1;32m    291\u001b[0m             \u001b[0;32mfor\u001b[0m \u001b[0mi\u001b[0m \u001b[0;32min\u001b[0m \u001b[0mrange\u001b[0m\u001b[0;34m(\u001b[0m\u001b[0;36m1\u001b[0m\u001b[0;34m,\u001b[0m \u001b[0mn\u001b[0m\u001b[0;34m+\u001b[0m\u001b[0;36m1\u001b[0m\u001b[0;34m)\u001b[0m\u001b[0;34m:\u001b[0m\u001b[0;34m\u001b[0m\u001b[0;34m\u001b[0m\u001b[0m\n\u001b[0;32m--> 292\u001b[0;31m                 \u001b[0mT_vals\u001b[0m\u001b[0;34m,\u001b[0m \u001b[0mA\u001b[0m\u001b[0;34m,\u001b[0m \u001b[0mfits\u001b[0m\u001b[0;34m,\u001b[0m \u001b[0mfits_full\u001b[0m \u001b[0;34m=\u001b[0m \u001b[0mself\u001b[0m\u001b[0;34m.\u001b[0m\u001b[0mfit_maxwellians\u001b[0m\u001b[0;34m(\u001b[0m\u001b[0mn\u001b[0m \u001b[0;34m=\u001b[0m \u001b[0mint\u001b[0m\u001b[0;34m(\u001b[0m\u001b[0mi\u001b[0m\u001b[0;34m)\u001b[0m\u001b[0;34m,\u001b[0m \u001b[0mplot\u001b[0m \u001b[0;34m=\u001b[0m \u001b[0;32mFalse\u001b[0m\u001b[0;34m)\u001b[0m\u001b[0;34m\u001b[0m\u001b[0;34m\u001b[0m\u001b[0m\n\u001b[0m\u001b[1;32m    293\u001b[0m                 \u001b[0mT_est\u001b[0m \u001b[0;34m=\u001b[0m \u001b[0mnp\u001b[0m\u001b[0;34m.\u001b[0m\u001b[0maverage\u001b[0m\u001b[0;34m(\u001b[0m\u001b[0mT_vals\u001b[0m\u001b[0;34m,\u001b[0m \u001b[0mweights\u001b[0m \u001b[0;34m=\u001b[0m \u001b[0mA\u001b[0m\u001b[0;34m)\u001b[0m\u001b[0;34m\u001b[0m\u001b[0;34m\u001b[0m\u001b[0m\n\u001b[1;32m    294\u001b[0m                 \u001b[0mT_data\u001b[0m\u001b[0;34m.\u001b[0m\u001b[0mappend\u001b[0m\u001b[0;34m(\u001b[0m\u001b[0mT_est\u001b[0m\u001b[0;34m)\u001b[0m\u001b[0;34m\u001b[0m\u001b[0;34m\u001b[0m\u001b[0m\n",
      "\u001b[0;32m~/epoch-4.17.16/epoch1d/epoch_surra/epoch_scripts/hot_elec_calc.py\u001b[0m in \u001b[0;36mfit_maxwellians\u001b[0;34m(self, n, plot, log)\u001b[0m\n\u001b[1;32m    211\u001b[0m         \u001b[0mself\u001b[0m\u001b[0;34m.\u001b[0m\u001b[0mT_vals\u001b[0m \u001b[0;34m=\u001b[0m \u001b[0mnp\u001b[0m\u001b[0;34m.\u001b[0m\u001b[0marray\u001b[0m\u001b[0;34m(\u001b[0m\u001b[0;34m[\u001b[0m\u001b[0;34m]\u001b[0m\u001b[0;34m)\u001b[0m\u001b[0;34m\u001b[0m\u001b[0;34m\u001b[0m\u001b[0m\n\u001b[1;32m    212\u001b[0m         \u001b[0;32mfor\u001b[0m \u001b[0ml\u001b[0m \u001b[0;32min\u001b[0m \u001b[0mloss\u001b[0m\u001b[0;34m:\u001b[0m\u001b[0;34m\u001b[0m\u001b[0;34m\u001b[0m\u001b[0m\n\u001b[0;32m--> 213\u001b[0;31m             \u001b[0midx\u001b[0m \u001b[0;34m=\u001b[0m \u001b[0mnp\u001b[0m\u001b[0;34m.\u001b[0m\u001b[0mwhere\u001b[0m\u001b[0;34m(\u001b[0m\u001b[0ml\u001b[0m \u001b[0;34m==\u001b[0m \u001b[0ml\u001b[0m\u001b[0;34m.\u001b[0m\u001b[0mmin\u001b[0m\u001b[0;34m(\u001b[0m\u001b[0;34m)\u001b[0m\u001b[0;34m)\u001b[0m\u001b[0;34m[\u001b[0m\u001b[0;36m0\u001b[0m\u001b[0;34m]\u001b[0m\u001b[0;34m[\u001b[0m\u001b[0;36m0\u001b[0m\u001b[0;34m]\u001b[0m\u001b[0;34m\u001b[0m\u001b[0;34m\u001b[0m\u001b[0m\n\u001b[0m\u001b[1;32m    214\u001b[0m             \u001b[0mself\u001b[0m\u001b[0;34m.\u001b[0m\u001b[0mT_vals\u001b[0m \u001b[0;34m=\u001b[0m \u001b[0mnp\u001b[0m\u001b[0;34m.\u001b[0m\u001b[0mappend\u001b[0m\u001b[0;34m(\u001b[0m\u001b[0mself\u001b[0m\u001b[0;34m.\u001b[0m\u001b[0mT_vals\u001b[0m\u001b[0;34m,\u001b[0m \u001b[0mtemps\u001b[0m\u001b[0;34m[\u001b[0m\u001b[0midx\u001b[0m\u001b[0;34m]\u001b[0m\u001b[0;34m)\u001b[0m\u001b[0;34m\u001b[0m\u001b[0;34m\u001b[0m\u001b[0m\n\u001b[1;32m    215\u001b[0m \u001b[0;34m\u001b[0m\u001b[0m\n",
      "\u001b[0;31mIndexError\u001b[0m: index 0 is out of bounds for axis 0 with size 0"
     ]
    }
   ],
   "source": [
    "count = 1\n",
    "for d in dirs:\n",
    "    print(count)\n",
    "    get_metrics_res(d, input_fname = 'train_inputs_1D_new_s1.json', output_fname = 'train_outputs_1D_new_s1.json', log=False)\n",
    "    count+=1"
   ]
  },
  {
   "cell_type": "code",
   "execution_count": null,
   "metadata": {},
   "outputs": [],
   "source": []
  }
 ],
 "metadata": {
  "interpreter": {
   "hash": "e7370f93d1d0cde622a1f8e1c04877d8463912d04d973331ad4851f04de6915a"
  },
  "kernelspec": {
   "display_name": "Python 3.8.10 64-bit",
   "language": "python",
   "name": "python3"
  },
  "language_info": {
   "codemirror_mode": {
    "name": "ipython",
    "version": 3
   },
   "file_extension": ".py",
   "mimetype": "text/x-python",
   "name": "python",
   "nbconvert_exporter": "python",
   "pygments_lexer": "ipython3",
   "version": "3.8.10"
  },
  "orig_nbformat": 4
 },
 "nbformat": 4,
 "nbformat_minor": 2
}
