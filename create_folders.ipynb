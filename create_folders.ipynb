{
 "cells": [
  {
   "cell_type": "code",
   "execution_count": 1,
   "metadata": {},
   "outputs": [],
   "source": [
    "from epoch_scripts.sim_setup import *\n",
    "from scipy.stats import qmc\n",
    "from smt.sampling_methods import LHS"
   ]
  },
  {
   "cell_type": "code",
   "execution_count": 2,
   "metadata": {},
   "outputs": [],
   "source": [
    "# I_min = np.log(1e14)\n",
    "# I_max = np.log(5e16)\n",
    "# Ln_min = np.log(499.999e-6)\n",
    "# Ln_max = np.log(500.001e-6)\n",
    "\n",
    "\n",
    "# bounds = np.array([[I_min, I_max], [Ln_min, Ln_max]])\n",
    "# LH_space = LHS(xlimits=bounds)\n",
    "\n",
    "# samples = LH_space(50)\n",
    "\n",
    "# samples = np.exp(samples)"
   ]
  },
  {
   "cell_type": "code",
   "execution_count": 3,
   "metadata": {},
   "outputs": [],
   "source": [
    "# plt.semilogx(samples[:,0], samples[:,1], 'o')\n",
    "# plt.ylim(490e-6, 510e-6)\n",
    "\n",
    "\n",
    "# np.save('X_train_1D.npy', samples)"
   ]
  },
  {
   "cell_type": "code",
   "execution_count": 4,
   "metadata": {},
   "outputs": [],
   "source": [
    "# I_min = np.log(1e15)\n",
    "# I_max = np.log(1e16)\n",
    "# Ln_min = np.log(300e-6)\n",
    "# Ln_max = np.log(1000e-6)\n",
    "\n",
    "\n",
    "# bounds1 = np.array([[np.log(1e15), np.log(1e16)], [np.log(300e-6), np.log(1000e-6)]])\n",
    "# bounds2 = np.array([[np.log(1e14), np.log(9.99e14)], [np.log(300e-6), np.log(1000e-6)]])\n",
    "# LH_space1 = LHS(xlimits=bounds1)\n",
    "\n",
    "# LH_space2 = LHS(xlimits=bounds2)\n",
    "# samples1 = LH_space1(180)\n",
    "# samples2 = LH_space2(70)\n",
    "\n",
    "# samples1 = np.exp(samples1)\n",
    "# samples2 = np.exp(samples2)"
   ]
  },
  {
   "cell_type": "code",
   "execution_count": 5,
   "metadata": {},
   "outputs": [],
   "source": [
    "# plt.loglog(samples1[:,0], samples1[:,1], 'o')\n",
    "# plt.loglog(samples2[:,0], samples2[:,1], 'o')\n",
    "# X1 = np.load('X_grid.npy')\n",
    "# plt.loglog(X1[:,0], X1[:,1], 'o')\n",
    "# # np.save('X_train_2D.npy', samples)"
   ]
  },
  {
   "cell_type": "code",
   "execution_count": 6,
   "metadata": {},
   "outputs": [],
   "source": [
    "# samples1 = np.array(samples1)\n",
    "# samples2 = np.array(samples2)\n",
    "\n",
    "# samples1 = samples1.tolist()\n",
    "# samples2 = samples2.tolist()\n",
    "\n",
    "# samples = samples1 + samples2\n"
   ]
  },
  {
   "cell_type": "code",
   "execution_count": 7,
   "metadata": {},
   "outputs": [],
   "source": [
    "# samples = np.array(samples)\n",
    "# plt.loglog(samples[:,0], samples[:,1], 'o')\n",
    "# X1 = np.load('X_grid.npy')\n",
    "# plt.loglog(X1[:,0], X1[:,1], 'o')\n",
    "# # np.save('X_train_2D.npy', samples)"
   ]
  },
  {
   "cell_type": "code",
   "execution_count": 8,
   "metadata": {},
   "outputs": [
    {
     "name": "stdout",
     "output_type": "stream",
     "text": [
      "2\n"
     ]
    }
   ],
   "source": [
    "X = np.load('X_train_1D.npy')\n",
    "ppc = 2048\n",
    "nsub_dir = 25\n",
    "ndir = len(X)//nsub_dir\n",
    "print(ndir)\n"
   ]
  },
  {
   "cell_type": "code",
   "execution_count": 21,
   "metadata": {},
   "outputs": [
    {
     "name": "stdout",
     "output_type": "stream",
     "text": [
      "['Data_1D_set5_1' 'Data_1D_set5_2']\n"
     ]
    }
   ],
   "source": [
    "dirs = np.array([])\n",
    "for i in range(1, int(ndir + 1)):\n",
    "        string = 'Data_1D_set5_'+str(i)\n",
    "        dirs = np.append(dirs, string)\n",
    "\n",
    "print(dirs)"
   ]
  },
  {
   "cell_type": "code",
   "execution_count": 22,
   "metadata": {},
   "outputs": [
    {
     "name": "stdout",
     "output_type": "stream",
     "text": [
      "['Data_1' 'Data_2' 'Data_3' 'Data_4' 'Data_5' 'Data_6' 'Data_7' 'Data_8'\n",
      " 'Data_9' 'Data_10' 'Data_11' 'Data_12' 'Data_13' 'Data_14' 'Data_15'\n",
      " 'Data_16' 'Data_17' 'Data_18' 'Data_19' 'Data_20' 'Data_21' 'Data_22'\n",
      " 'Data_23' 'Data_24' 'Data_25']\n"
     ]
    }
   ],
   "source": [
    "sub_dirs = np.array([])\n",
    "for i in range(1, int(nsub_dir + 1)):\n",
    "        string = 'Data_'+str(i)\n",
    "        sub_dirs = np.append(sub_dirs, string)\n",
    "\n",
    "print(sub_dirs)\n"
   ]
  },
  {
   "cell_type": "code",
   "execution_count": 23,
   "metadata": {},
   "outputs": [
    {
     "name": "stdout",
     "output_type": "stream",
     "text": [
      "$EPOCH_SURRA/Data_1D_set5_1/Data_1/input.deck already exists\n",
      "created directory and input.deck in $EPOCH_SURR\n",
      "$EPOCH_SURRA/Data_1D_set5_1 directory already exists\n",
      "$EPOCH_SURRA/Data_1D_set5_1/Data_2/input.deck already exists\n",
      "created directory and input.deck in $EPOCH_SURR\n",
      "$EPOCH_SURRA/Data_1D_set5_1 directory already exists\n",
      "$EPOCH_SURRA/Data_1D_set5_1/Data_3/input.deck already exists\n",
      "created directory and input.deck in $EPOCH_SURR\n",
      "$EPOCH_SURRA/Data_1D_set5_1 directory already exists\n",
      "$EPOCH_SURRA/Data_1D_set5_1/Data_4/input.deck already exists\n",
      "created directory and input.deck in $EPOCH_SURR\n",
      "$EPOCH_SURRA/Data_1D_set5_1 directory already exists\n",
      "$EPOCH_SURRA/Data_1D_set5_1/Data_5/input.deck already exists\n",
      "created directory and input.deck in $EPOCH_SURR\n",
      "$EPOCH_SURRA/Data_1D_set5_1 directory already exists\n",
      "$EPOCH_SURRA/Data_1D_set5_1/Data_6/input.deck already exists\n",
      "created directory and input.deck in $EPOCH_SURR\n",
      "$EPOCH_SURRA/Data_1D_set5_1 directory already exists\n",
      "$EPOCH_SURRA/Data_1D_set5_1/Data_7/input.deck already exists\n",
      "created directory and input.deck in $EPOCH_SURR\n",
      "$EPOCH_SURRA/Data_1D_set5_1 directory already exists\n",
      "$EPOCH_SURRA/Data_1D_set5_1/Data_8/input.deck already exists\n",
      "created directory and input.deck in $EPOCH_SURR\n",
      "$EPOCH_SURRA/Data_1D_set5_1 directory already exists\n",
      "$EPOCH_SURRA/Data_1D_set5_1/Data_9/input.deck already exists\n",
      "created directory and input.deck in $EPOCH_SURR\n",
      "$EPOCH_SURRA/Data_1D_set5_1 directory already exists\n",
      "$EPOCH_SURRA/Data_1D_set5_1/Data_10/input.deck already exists\n",
      "created directory and input.deck in $EPOCH_SURR\n",
      "$EPOCH_SURRA/Data_1D_set5_1 directory already exists\n",
      "$EPOCH_SURRA/Data_1D_set5_1/Data_11/input.deck already exists\n",
      "created directory and input.deck in $EPOCH_SURR\n",
      "$EPOCH_SURRA/Data_1D_set5_1 directory already exists\n",
      "$EPOCH_SURRA/Data_1D_set5_1/Data_12/input.deck already exists\n",
      "created directory and input.deck in $EPOCH_SURR\n",
      "$EPOCH_SURRA/Data_1D_set5_1 directory already exists\n",
      "$EPOCH_SURRA/Data_1D_set5_1/Data_13/input.deck already exists\n",
      "created directory and input.deck in $EPOCH_SURR\n",
      "$EPOCH_SURRA/Data_1D_set5_1 directory already exists\n",
      "$EPOCH_SURRA/Data_1D_set5_1/Data_14/input.deck already exists\n",
      "created directory and input.deck in $EPOCH_SURR\n",
      "$EPOCH_SURRA/Data_1D_set5_1 directory already exists\n",
      "$EPOCH_SURRA/Data_1D_set5_1/Data_15/input.deck already exists\n",
      "created directory and input.deck in $EPOCH_SURR\n",
      "$EPOCH_SURRA/Data_1D_set5_1 directory already exists\n",
      "$EPOCH_SURRA/Data_1D_set5_1/Data_16/input.deck already exists\n",
      "created directory and input.deck in $EPOCH_SURR\n",
      "$EPOCH_SURRA/Data_1D_set5_1 directory already exists\n",
      "$EPOCH_SURRA/Data_1D_set5_1/Data_17/input.deck already exists\n",
      "created directory and input.deck in $EPOCH_SURR\n",
      "$EPOCH_SURRA/Data_1D_set5_1 directory already exists\n",
      "$EPOCH_SURRA/Data_1D_set5_1/Data_18/input.deck already exists\n",
      "created directory and input.deck in $EPOCH_SURR\n",
      "$EPOCH_SURRA/Data_1D_set5_1 directory already exists\n",
      "$EPOCH_SURRA/Data_1D_set5_1/Data_19/input.deck already exists\n",
      "created directory and input.deck in $EPOCH_SURR\n",
      "$EPOCH_SURRA/Data_1D_set5_1 directory already exists\n",
      "$EPOCH_SURRA/Data_1D_set5_1/Data_20/input.deck already exists\n",
      "created directory and input.deck in $EPOCH_SURR\n",
      "$EPOCH_SURRA/Data_1D_set5_1 directory already exists\n",
      "$EPOCH_SURRA/Data_1D_set5_1/Data_21/input.deck already exists\n",
      "created directory and input.deck in $EPOCH_SURR\n",
      "$EPOCH_SURRA/Data_1D_set5_1 directory already exists\n",
      "$EPOCH_SURRA/Data_1D_set5_1/Data_22/input.deck already exists\n",
      "created directory and input.deck in $EPOCH_SURR\n",
      "$EPOCH_SURRA/Data_1D_set5_1 directory already exists\n",
      "$EPOCH_SURRA/Data_1D_set5_1/Data_23/input.deck already exists\n",
      "created directory and input.deck in $EPOCH_SURR\n",
      "$EPOCH_SURRA/Data_1D_set5_1 directory already exists\n",
      "$EPOCH_SURRA/Data_1D_set5_1/Data_24/input.deck already exists\n",
      "created directory and input.deck in $EPOCH_SURR\n",
      "$EPOCH_SURRA/Data_1D_set5_1 directory already exists\n",
      "$EPOCH_SURRA/Data_1D_set5_1/Data_25/input.deck already exists\n",
      "created directory and input.deck in $EPOCH_SURR\n",
      "$EPOCH_SURRA/Data_1D_set5_2/Data_1/input.deck already exists\n",
      "created directory and input.deck in $EPOCH_SURR\n",
      "$EPOCH_SURRA/Data_1D_set5_2 directory already exists\n",
      "$EPOCH_SURRA/Data_1D_set5_2/Data_2/input.deck already exists\n",
      "created directory and input.deck in $EPOCH_SURR\n",
      "$EPOCH_SURRA/Data_1D_set5_2 directory already exists\n",
      "$EPOCH_SURRA/Data_1D_set5_2/Data_3/input.deck already exists\n",
      "created directory and input.deck in $EPOCH_SURR\n",
      "$EPOCH_SURRA/Data_1D_set5_2 directory already exists\n",
      "$EPOCH_SURRA/Data_1D_set5_2/Data_4/input.deck already exists\n",
      "created directory and input.deck in $EPOCH_SURR\n",
      "$EPOCH_SURRA/Data_1D_set5_2 directory already exists\n",
      "$EPOCH_SURRA/Data_1D_set5_2/Data_5/input.deck already exists\n",
      "created directory and input.deck in $EPOCH_SURR\n",
      "$EPOCH_SURRA/Data_1D_set5_2 directory already exists\n",
      "$EPOCH_SURRA/Data_1D_set5_2/Data_6/input.deck already exists\n",
      "created directory and input.deck in $EPOCH_SURR\n",
      "$EPOCH_SURRA/Data_1D_set5_2 directory already exists\n",
      "$EPOCH_SURRA/Data_1D_set5_2/Data_7/input.deck already exists\n",
      "created directory and input.deck in $EPOCH_SURR\n",
      "$EPOCH_SURRA/Data_1D_set5_2 directory already exists\n",
      "$EPOCH_SURRA/Data_1D_set5_2/Data_8/input.deck already exists\n",
      "created directory and input.deck in $EPOCH_SURR\n",
      "$EPOCH_SURRA/Data_1D_set5_2 directory already exists\n",
      "$EPOCH_SURRA/Data_1D_set5_2/Data_9/input.deck already exists\n",
      "created directory and input.deck in $EPOCH_SURR\n",
      "$EPOCH_SURRA/Data_1D_set5_2 directory already exists\n",
      "$EPOCH_SURRA/Data_1D_set5_2/Data_10/input.deck already exists\n",
      "created directory and input.deck in $EPOCH_SURR\n",
      "$EPOCH_SURRA/Data_1D_set5_2 directory already exists\n",
      "$EPOCH_SURRA/Data_1D_set5_2/Data_11/input.deck already exists\n",
      "created directory and input.deck in $EPOCH_SURR\n",
      "$EPOCH_SURRA/Data_1D_set5_2 directory already exists\n",
      "$EPOCH_SURRA/Data_1D_set5_2/Data_12/input.deck already exists\n",
      "created directory and input.deck in $EPOCH_SURR\n",
      "$EPOCH_SURRA/Data_1D_set5_2 directory already exists\n",
      "$EPOCH_SURRA/Data_1D_set5_2/Data_13/input.deck already exists\n",
      "created directory and input.deck in $EPOCH_SURR\n",
      "$EPOCH_SURRA/Data_1D_set5_2 directory already exists\n",
      "$EPOCH_SURRA/Data_1D_set5_2/Data_14/input.deck already exists\n",
      "created directory and input.deck in $EPOCH_SURR\n",
      "$EPOCH_SURRA/Data_1D_set5_2 directory already exists\n",
      "$EPOCH_SURRA/Data_1D_set5_2/Data_15/input.deck already exists\n",
      "created directory and input.deck in $EPOCH_SURR\n",
      "$EPOCH_SURRA/Data_1D_set5_2 directory already exists\n",
      "$EPOCH_SURRA/Data_1D_set5_2/Data_16/input.deck already exists\n",
      "created directory and input.deck in $EPOCH_SURR\n",
      "$EPOCH_SURRA/Data_1D_set5_2 directory already exists\n",
      "$EPOCH_SURRA/Data_1D_set5_2/Data_17/input.deck already exists\n",
      "created directory and input.deck in $EPOCH_SURR\n",
      "$EPOCH_SURRA/Data_1D_set5_2 directory already exists\n",
      "$EPOCH_SURRA/Data_1D_set5_2/Data_18/input.deck already exists\n",
      "created directory and input.deck in $EPOCH_SURR\n",
      "$EPOCH_SURRA/Data_1D_set5_2 directory already exists\n",
      "$EPOCH_SURRA/Data_1D_set5_2/Data_19/input.deck already exists\n",
      "created directory and input.deck in $EPOCH_SURR\n",
      "$EPOCH_SURRA/Data_1D_set5_2 directory already exists\n",
      "$EPOCH_SURRA/Data_1D_set5_2/Data_20/input.deck already exists\n",
      "created directory and input.deck in $EPOCH_SURR\n",
      "$EPOCH_SURRA/Data_1D_set5_2 directory already exists\n",
      "$EPOCH_SURRA/Data_1D_set5_2/Data_21/input.deck already exists\n",
      "created directory and input.deck in $EPOCH_SURR\n",
      "$EPOCH_SURRA/Data_1D_set5_2 directory already exists\n",
      "$EPOCH_SURRA/Data_1D_set5_2/Data_22/input.deck already exists\n",
      "created directory and input.deck in $EPOCH_SURR\n",
      "$EPOCH_SURRA/Data_1D_set5_2 directory already exists\n",
      "$EPOCH_SURRA/Data_1D_set5_2/Data_23/input.deck already exists\n",
      "created directory and input.deck in $EPOCH_SURR\n",
      "$EPOCH_SURRA/Data_1D_set5_2 directory already exists\n",
      "$EPOCH_SURRA/Data_1D_set5_2/Data_24/input.deck already exists\n",
      "created directory and input.deck in $EPOCH_SURR\n",
      "$EPOCH_SURRA/Data_1D_set5_2 directory already exists\n",
      "$EPOCH_SURRA/Data_1D_set5_2/Data_25/input.deck already exists\n",
      "created directory and input.deck in $EPOCH_SURR\n"
     ]
    }
   ],
   "source": [
    "for i in range(ndir):\n",
    "    hpc_run(dir = dirs[i], sub_dirs=sub_dirs, I_array = X[int(0+nsub_dir*i):int(nsub_dir + i*nsub_dir), 0], Ln_array = X[int(0+nsub_dir*i):int(nsub_dir + i*nsub_dir), 1], ppc = 2048, input_file = 'input_0.15nc_mid.deck')"
   ]
  },
  {
   "cell_type": "code",
   "execution_count": null,
   "metadata": {},
   "outputs": [],
   "source": []
  }
 ],
 "metadata": {
  "interpreter": {
   "hash": "e7370f93d1d0cde622a1f8e1c04877d8463912d04d973331ad4851f04de6915a"
  },
  "kernelspec": {
   "display_name": "Python 3.8.10 64-bit",
   "language": "python",
   "name": "python3"
  },
  "language_info": {
   "codemirror_mode": {
    "name": "ipython",
    "version": 3
   },
   "file_extension": ".py",
   "mimetype": "text/x-python",
   "name": "python",
   "nbconvert_exporter": "python",
   "pygments_lexer": "ipython3",
   "version": "3.8.10"
  },
  "orig_nbformat": 4
 },
 "nbformat": 4,
 "nbformat_minor": 2
}
