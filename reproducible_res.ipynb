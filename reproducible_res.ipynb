{
 "cells": [
  {
   "cell_type": "markdown",
   "metadata": {},
   "source": [
    "# PX915 Individual Project Reproducible Result - Ben Gosling"
   ]
  },
  {
   "cell_type": "markdown",
   "metadata": {},
   "source": [
    "some stuff"
   ]
  },
  {
   "cell_type": "markdown",
   "metadata": {},
   "source": [
    "#### Import Modules for Plasma Parameter Calculation and GP regression"
   ]
  },
  {
   "cell_type": "code",
   "execution_count": 1,
   "metadata": {},
   "outputs": [],
   "source": [
    "# import epoch calculators\n",
    "from epoch_scripts.plasma_calc import * # stores class that calculates basic plasma paramters \n",
    "from epoch_scripts.fields_calc import * # stores class that calculates field pramteres such as refelctivity \n",
    "from epoch_scripts.hot_elec_calc import * # stores class that estimates the hot-electron temperature and fraction of hot-electrons\n",
    "from epoch_scripts.run_epoch import * # stores functions which aid in the running of epoch simulations\n",
    "from epoch_scripts.sim_setup import * # stores functions which aid in the creation of setting up epoch runs\n",
    "\n",
    "# Gaussian process regression scripts\n",
    "from gp_scripts.gp_1D import * # stores functions for performing GP regression for 1D input space\n",
    "from gp_scripts.gp_2D import * # stores functions for performing GP regression for 2D input space"
   ]
  },
  {
   "cell_type": "markdown",
   "metadata": {},
   "source": [
    "EPOCH requires you to specify an output directory which stores the input file to set up the simulation and store the output files. The python function below is used to create a directory within epoch_surra and populate it with one of the example input decks in the input_decks directory. "
   ]
  },
  {
   "cell_type": "code",
   "execution_count": 2,
   "metadata": {},
   "outputs": [
    {
     "name": "stdout",
     "output_type": "stream",
     "text": [
      "$EPOCH_SURRA/Data directory already exists\n",
      "created directory and input.deck in $EPOCH_SURRA\n"
     ]
    }
   ],
   "source": [
    "# set name of the output directory\n",
    "dir = 'Data'\n",
    "sub_dir = 'Data_1'\n",
    "# input file/setup used throughout the report\n",
    "input_file = 'input_decks/input_0.15nc_mid.deck'\n",
    "# set initial laser intensity in W/cm^2 (varies between 1e14 - 1e16 in the report)\n",
    "intensity = 1e16 # set initial laser intensity in W/cm^2 \n",
    "# set density scale length in m (varies between 300e-6 - 100e-6 in the report) \n",
    "dens_scale_len = 500e-6 \n",
    "# set the number of particles per cell (set to 2048 in the report)\n",
    "# set to 100 to save time\n",
    "ppc = 100\n",
    "\n",
    "# function to perform the setup for a epoch simulation\n",
    "# function can be found in epoch_scripts/sim_setup.py\n",
    "epoch_sim_dir(dir = dir, input_file = input_file,\\\n",
    "              I = intensity, Ln = dens_scale_len, ppc = ppc)"
   ]
  },
  {
   "cell_type": "markdown",
   "metadata": {},
   "source": [
    "Once the output directory and input file are created, all that is left to do is to run the simulation. Another python function was created to \n",
    "run an epoch simulation for a given directory that houses a input.deck file."
   ]
  },
  {
   "cell_type": "code",
   "execution_count": 3,
   "metadata": {},
   "outputs": [
    {
     "name": "stdout",
     "output_type": "stream",
     "text": [
      "Output Directory exists at Data\n",
      "running epoch1d for I = 1e+16 W/cm^2 ; Ln = 0.0005 m ; PPC = 100.0\n",
      "Simulation Complete in 5.010323429107666 minutes\n"
     ]
    }
   ],
   "source": [
    "npro = 4 # number of processors to run on\n",
    "output = False # If false it prints output message to run.log\n",
    "\n",
    "run_epoch(dir = dir, output = output, npro = npro)"
   ]
  },
  {
   "cell_type": "code",
   "execution_count": null,
   "metadata": {},
   "outputs": [],
   "source": []
  }
 ],
 "metadata": {
  "kernelspec": {
   "display_name": "Python 3.8.10 64-bit",
   "language": "python",
   "name": "python3"
  },
  "language_info": {
   "codemirror_mode": {
    "name": "ipython",
    "version": 3
   },
   "file_extension": ".py",
   "mimetype": "text/x-python",
   "name": "python",
   "nbconvert_exporter": "python",
   "pygments_lexer": "ipython3",
   "version": "3.8.10"
  },
  "orig_nbformat": 4,
  "vscode": {
   "interpreter": {
    "hash": "e7370f93d1d0cde622a1f8e1c04877d8463912d04d973331ad4851f04de6915a"
   }
  }
 },
 "nbformat": 4,
 "nbformat_minor": 2
}
